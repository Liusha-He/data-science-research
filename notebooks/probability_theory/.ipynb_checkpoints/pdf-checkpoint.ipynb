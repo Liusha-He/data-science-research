{
 "cells": [
  {
   "cell_type": "markdown",
   "id": "5b9fa81a",
   "metadata": {},
   "source": [
    "# Probability density\n",
    "\n"
   ]
  },
  {
   "cell_type": "code",
   "execution_count": 1,
   "id": "6f2f86cd",
   "metadata": {},
   "outputs": [],
   "source": [
    "import matplotlib.pyplot as plt\n",
    "import numpy as np"
   ]
  },
  {
   "cell_type": "markdown",
   "id": "c5fea586",
   "metadata": {},
   "source": [
    "### Q1\n",
    "\n",
    "Assume that we have following joint PDF, for 0 $\\le$ X $\\le$ 3, $X^{2}$ $\\le$ Y $\\le$ 9,\\begin{equation}\n",
    "f_{X,Y}(X,Y)=\\frac{1}{18}\n",
    "\\end{equation}Calculate the P(0 $\\le$ X $\\le$ 1, 1 $\\le$ Y $\\le$ 4)."
   ]
  },
  {
   "cell_type": "markdown",
   "id": "f19a8799",
   "metadata": {},
   "source": [
    "### Step 1 - Graph"
   ]
  },
  {
   "cell_type": "code",
   "execution_count": 2,
   "id": "692c1669",
   "metadata": {},
   "outputs": [],
   "source": [
    "dx, dy = 0.02, 0.02\n",
    "x_sample = np.arange(0, 3, dx)"
   ]
  },
  {
   "cell_type": "code",
   "execution_count": 3,
   "id": "df653b9b",
   "metadata": {},
   "outputs": [],
   "source": [
    "def get_scatters(x_sample):\n",
    "    scatters = [] \n",
    "    for x in x_sample:\n",
    "        y_sample = np.arange(x**2, 9, dy)\n",
    "        for y in y_sample:\n",
    "            scatters.append((x, y))\n",
    "    \n",
    "    return scatters\n",
    "\n",
    "scatters = get_scatters(x_sample)"
   ]
  },
  {
   "cell_type": "code",
   "execution_count": 4,
   "id": "27262b53",
   "metadata": {},
   "outputs": [],
   "source": [
    "x_range = np.arange(0, 1, dx)\n",
    "y_range = np.arange(1, 4, dy)\n",
    "\n",
    "scatters2 = []\n",
    "for x in x_range:\n",
    "    for y in y_range:\n",
    "        scatters2.append((x, y))\n"
   ]
  },
  {
   "cell_type": "code",
   "execution_count": 12,
   "id": "10bebe0e",
   "metadata": {},
   "outputs": [
    {
     "data": {
      "image/png": "[encoded data removed]",
      "text/plain": [
       "<Figure size 576x720 with 1 Axes>"
      ]
     },
     "metadata": {
      "needs_background": "light"
     },
     "output_type": "display_data"
    }
   ],
   "source": [
    "fig = plt.figure(figsize=(8,10))\n",
    "\n",
    "plt.scatter(*zip(*scatters),c=\"lightslategrey\")\n",
    "plt.xlabel(\"X\")\n",
    "plt.ylabel(\"Y\"), \n",
    "\n",
    "plt.scatter(*zip(*scatters2), c=\"r\")\n",
    "\n",
    "plt.show()"
   ]
  },
  {
   "cell_type": "markdown",
   "id": "62ccbe56",
   "metadata": {},
   "source": [
    "### Step 2 - Integration\n",
    "\n",
    "$$\\int_0^1 \\int_1^4 \\frac{1}{18} \\,dy \\,dx $$"
   ]
  },
  {
   "cell_type": "code",
   "execution_count": 6,
   "id": "a43fb70c",
   "metadata": {},
   "outputs": [
    {
     "data": {
      "text/plain": [
       "0.167"
      ]
     },
     "execution_count": 6,
     "metadata": {},
     "output_type": "execute_result"
    }
   ],
   "source": [
    "p = (4 - 1)*(1 - 0)/18\n",
    "\n",
    "np.round(p, 3)"
   ]
  },
  {
   "cell_type": "markdown",
   "id": "1050a93b",
   "metadata": {},
   "source": [
    "### Answer - P(0  ≤  X  ≤  1, 1  ≤  Y  ≤  4) = 0.167"
   ]
  },
  {
   "cell_type": "markdown",
   "id": "b0c0e2a1",
   "metadata": {},
   "source": [
    "### Q2\n",
    "\n",
    "\n",
    "Suppose we have the following joint PDF for X and Y, over the interval 0 $\\le$ X $\\le$ Y $\\le$ 1; \\begin{equation} f_{X,Y}(X,Y) = k(1 - y) \\end{equation} Calculate P(X $\\ge$ 0.5, Y $\\ge$ 0.65)."
   ]
  },
  {
   "cell_type": "markdown",
   "id": "34433609",
   "metadata": {},
   "source": [
    "### Step 1 - Graph"
   ]
  },
  {
   "cell_type": "code",
   "execution_count": 7,
   "id": "f03f3e76",
   "metadata": {},
   "outputs": [],
   "source": [
    "x1_range = np.arange(0, 1, dx)\n",
    "scatters_q2 = []\n",
    "\n",
    "for x1 in x1_range:\n",
    "    y1_range = np.arange(x1, 1, dy)\n",
    "    for y1 in y1_range:\n",
    "        scatters_q2.append((x1, y1))"
   ]
  },
  {
   "cell_type": "code",
   "execution_count": 8,
   "id": "2ff4c56a",
   "metadata": {},
   "outputs": [],
   "source": [
    "x1_area = np.arange(0.5, 1, dx)\n",
    "y1_area = np.arange(0.65, 1, dy)\n",
    "\n",
    "scatters_area_q2 = []\n",
    "\n",
    "for x1 in x1_area:\n",
    "    for y1 in y1_area:\n",
    "        if y1 >= x1:\n",
    "            scatters_area_q2.append((x1, y1))\n"
   ]
  },
  {
   "cell_type": "code",
   "execution_count": 9,
   "id": "089398d1",
   "metadata": {},
   "outputs": [
    {
     "data": {
      "image/png": "[encoded data removed]",
      "text/plain": [
       "<Figure size 432x288 with 1 Axes>"
      ]
     },
     "metadata": {
      "needs_background": "light"
     },
     "output_type": "display_data"
    }
   ],
   "source": [
    "fig2 = plt.Figure(figsize=(8,12))\n",
    "plt.scatter(*zip(*scatters_q2), c=\"lightslategrey\")\n",
    "plt.xlabel(\"X\")\n",
    "plt.ylabel(\"Y\")\n",
    "\n",
    "plt.scatter(*zip(*scatters_area_q2), c=\"r\")\n",
    "\n",
    "plt.show()"
   ]
  },
  {
   "cell_type": "markdown",
   "id": "0306e4e3",
   "metadata": {},
   "source": [
    "### Step 2 - Find $\\,k$"
   ]
  },
  {
   "cell_type": "code",
   "execution_count": 10,
   "id": "b0182460",
   "metadata": {},
   "outputs": [],
   "source": [
    "p = ((0.5*0.5)/2-(0.15*0.15)/2)/0.5"
   ]
  },
  {
   "cell_type": "code",
   "execution_count": 11,
   "id": "9a748667",
   "metadata": {},
   "outputs": [
    {
     "data": {
      "text/plain": [
       "0.228"
      ]
     },
     "execution_count": 11,
     "metadata": {},
     "output_type": "execute_result"
    }
   ],
   "source": [
    "np.round(p, 3)"
   ]
  },
  {
   "cell_type": "code",
   "execution_count": null,
   "id": "69762e74",
   "metadata": {},
   "outputs": [],
   "source": []
  }
 ],
 "metadata": {
  "kernelspec": {
   "display_name": "Python 3 (ipykernel)",
   "language": "python",
   "name": "python3"
  },
  "language_info": {
   "codemirror_mode": {
    "name": "ipython",
    "version": 3
   },
   "file_extension": ".py",
   "mimetype": "text/x-python",
   "name": "python",
   "nbconvert_exporter": "python",
   "pygments_lexer": "ipython3",
   "version": "3.8.10"
  }
 },
 "nbformat": 4,
 "nbformat_minor": 5
}
