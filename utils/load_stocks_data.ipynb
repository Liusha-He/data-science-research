{
 "cells": [
  {
   "cell_type": "code",
   "execution_count": 1,
   "id": "53051c9f",
   "metadata": {},
   "outputs": [],
   "source": [
    "import pandas as pd\n",
    "import yfinance as yf"
   ]
  },
  {
   "cell_type": "code",
   "execution_count": 2,
   "id": "3ef4ced5",
   "metadata": {},
   "outputs": [],
   "source": [
    "stock2index = {\n",
    "    \"Tesco\": \"TSCO.L\",\n",
    "    \"HSBC\": \"HSBC\",\n",
    "    \"Amazon\": \"AMAZ\",\n",
    "    \"Microsoft\": \"MSFT\",\n",
    "    \"Meta\": \"META\",\n",
    "    \"Netflix\": \"NFLX\",\n",
    "    \"Google\": \"GOOG\",\n",
    "    \"BP\": \"BP\",\n",
    "    \"EasyJet\": \"EZJ.L\",\n",
    "    \"Aviva\": \"AV.L\",\n",
    "    \"Legal&General\": \"LGEN.L\",\n",
    "    \"IBM\": \"IBM\",\n",
    "    \"Fairfax\": \"FFH.TO\",\n",
    "    \"Blackstone\": \"BX\",\n",
    "    \"LloydsBank\": \"LYG\",\n",
    "    \"Tesla\": \"TSLA\",\n",
    "    \"JPMorgan\": \"JPM\",\n",
    "    \"Apple\": \"APPL\",\n",
    "}"
   ]
  },
  {
   "cell_type": "code",
   "execution_count": 3,
   "id": "8f0875c7",
   "metadata": {},
   "outputs": [
    {
     "name": "stdout",
     "output_type": "stream",
     "text": [
      "[*********************100%***********************]  18 of 18 completed\n",
      "\n",
      "2 Failed downloads:\n",
      "- AMAZ: No data found for this date range, symbol may be delisted\n",
      "- APPL: No data found for this date range, symbol may be delisted\n"
     ]
    }
   ],
   "source": [
    "stock_list = [v for v in stock2index.values()]\n",
    "\n",
    "df = yf.download(stock_list, \"2018-01-01\")"
   ]
  },
  {
   "cell_type": "code",
   "execution_count": 5,
   "id": "776a6694",
   "metadata": {},
   "outputs": [],
   "source": [
    "df.to_csv(\"../tests/data/stocks.csv\")"
   ]
  },
  {
   "cell_type": "code",
   "execution_count": null,
   "id": "de79e404",
   "metadata": {},
   "outputs": [],
   "source": []
  }
 ],
 "metadata": {
  "kernelspec": {
   "display_name": "Python 3 (ipykernel)",
   "language": "python",
   "name": "python3"
  },
  "language_info": {
   "codemirror_mode": {
    "name": "ipython",
    "version": 3
   },
   "file_extension": ".py",
   "mimetype": "text/x-python",
   "name": "python",
   "nbconvert_exporter": "python",
   "pygments_lexer": "ipython3",
   "version": "3.8.10"
  }
 },
 "nbformat": 4,
 "nbformat_minor": 5
}
